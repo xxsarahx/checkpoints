{
 "cells": [
  {
   "cell_type": "code",
   "execution_count": 1,
   "metadata": {},
   "outputs": [
    {
     "name": "stdout",
     "output_type": "stream",
     "text": [
      "[2002, 2009, 2016, 2023, 2037, 2044, 2051, 2058, 2072, 2079, 2086, 2093, 2107, 2114, 2121, 2128, 2142, 2149, 2156, 2163, 2177, 2184, 2191, 2198, 2212, 2219, 2226, 2233, 2247, 2254, 2261, 2268, 2282, 2289, 2296, 2303, 2317, 2324, 2331, 2338, 2352, 2359, 2366, 2373, 2387, 2394, 2401, 2408, 2422, 2429, 2436, 2443, 2457, 2464, 2471, 2478, 2492, 2499, 2506, 2513, 2527, 2534, 2541, 2548, 2562, 2569, 2576, 2583, 2597, 2604, 2611, 2618, 2632, 2639, 2646, 2653, 2667, 2674, 2681, 2688, 2702, 2709, 2716, 2723, 2737, 2744, 2751, 2758, 2772, 2779, 2786, 2793, 2807, 2814, 2821, 2828, 2842, 2849, 2856, 2863, 2877, 2884, 2891, 2898, 2912, 2919, 2926, 2933, 2947, 2954, 2961, 2968, 2982, 2989, 2996, 3003, 3017, 3024, 3031, 3038, 3052, 3059, 3066, 3073, 3087, 3094, 3101, 3108, 3122, 3129, 3136, 3143, 3157, 3164, 3171, 3178, 3192, 3199]\n"
     ]
    }
   ],
   "source": [
    "#QUESTION 1\n",
    "\n",
    "# Initialize an empty list to store the results\n",
    "result = []\n",
    "\n",
    "# Iterate through the range from 2000 to 3200 (both inclusive)\n",
    "for number in range(2000, 3201):\n",
    "    # Check if the number is divisible by 7 and not a multiple of 5\n",
    "    if number % 7 == 0 and number % 5 != 0:\n",
    "        # If the condition is met, add the number to the result list\n",
    "        result.append(number)\n",
    "\n",
    "print(result)\n"
   ]
  },
  {
   "cell_type": "code",
   "execution_count": 2,
   "metadata": {},
   "outputs": [
    {
     "name": "stdout",
     "output_type": "stream",
     "text": [
      "The factorial of 8 is 40320\n"
     ]
    }
   ],
   "source": [
    "#QUESTION 2\n",
    "\n",
    "num = int(input(\"Enter a number: \"))\n",
    "fact = 1\n",
    "\n",
    "# Check if the number is negative, zero, or positive\n",
    "if num < 0:\n",
    "    print(\"Factorial is not defined for negative numbers.\")\n",
    "elif num == 0:\n",
    "    print(\"The factorial of 0 is 1.\")\n",
    "else:\n",
    "    # Calculate the factorial for positive numbers\n",
    "    for i in range(1, num + 1):\n",
    "        fact *= i\n",
    "    print(f\"The factorial of {num} is {fact}\")\n"
   ]
  },
  {
   "cell_type": "code",
   "execution_count": 3,
   "metadata": {},
   "outputs": [
    {
     "name": "stdout",
     "output_type": "stream",
     "text": [
      "{1: 1, 2: 4, 3: 9, 4: 16, 5: 25, 6: 36, 7: 49, 8: 64, 9: 81}\n"
     ]
    }
   ],
   "source": [
    "#QUESTION 3\n",
    "\n",
    "\n",
    "n = int(input(\"Enter an integer number (n): \"))\n",
    "\n",
    "# Initialize an empty dictionary to store the (i, i*i) pairs\n",
    "result_dict = {}\n",
    "\n",
    "# Generate the dictionary using a loop\n",
    "for i in range(1, n + 1):\n",
    "    result_dict[i] = i * i\n",
    "\n",
    "print(result_dict)\n"
   ]
  },
  {
   "cell_type": "code",
   "execution_count": 4,
   "metadata": {},
   "outputs": [
    {
     "name": "stdout",
     "output_type": "stream",
     "text": [
      "ktten\n",
      "itten\n",
      "kittn\n"
     ]
    }
   ],
   "source": [
    "#QUESTION 4\n",
    "\n",
    "def missing_char(str, n):\n",
    "    # Check if n is a valid index within the range of the string\n",
    "    if 0 <= n < len(str):\n",
    "        # Use string slicing to remove the character at index n\n",
    "        result = str[:n] + str[n+1:]\n",
    "        return result\n",
    "    else:\n",
    "        # Handle the case where n is out of range\n",
    "        print(f\"Index {n} is out of range for the given string.\")\n",
    "        return str  # Return the original string\n",
    "\n",
    "# Test\n",
    "print(missing_char('kitten', 1))  # Output: 'ktten'\n",
    "print(missing_char('kitten', 0))  # Output: 'itten'\n",
    "print(missing_char('kitten', 4))  # Output: 'kittn'\n"
   ]
  },
  {
   "cell_type": "code",
   "execution_count": 5,
   "metadata": {},
   "outputs": [
    {
     "name": "stdout",
     "output_type": "stream",
     "text": [
      "Original array elements:\n",
      "[[0 1]\n",
      " [2 3]\n",
      " [4 5]]\n",
      "Array to list:\n",
      "[[0, 1], [2, 3], [4, 5]]\n"
     ]
    }
   ],
   "source": [
    "#QUESTION 5\n",
    "\n",
    "import numpy as np\n",
    "\n",
    "x = np.arange(6).reshape(3, 2)\n",
    "\n",
    "print(\"Original array elements:\")\n",
    "print(x)\n",
    "\n",
    "print(\"Array to list:\")\n",
    "print(x.tolist())\n"
   ]
  },
  {
   "cell_type": "code",
   "execution_count": 6,
   "metadata": {},
   "outputs": [
    {
     "name": "stdout",
     "output_type": "stream",
     "text": [
      "Original array1: [0 1 2]\n",
      "Original array2: [2 1 0]\n",
      "Covariance matrix of the said arrays:\n",
      "[[ 1. -1.]\n",
      " [-1.  1.]]\n"
     ]
    }
   ],
   "source": [
    "#QUESTION 6\n",
    "\n",
    "import numpy as np\n",
    "\n",
    "# Define the original arrays\n",
    "array1 = np.array([0, 1, 2])\n",
    "array2 = np.array([2, 1, 0])\n",
    "\n",
    "# Compute the covariance matrix\n",
    "cov_matrix = np.cov(array1, array2)\n",
    "\n",
    "# Print the original arrays and the covariance matrix\n",
    "print(\"Original array1:\", array1)\n",
    "print(\"Original array2:\", array2)\n",
    "print(\"Covariance matrix of the said arrays:\")\n",
    "print(cov_matrix)\n"
   ]
  },
  {
   "cell_type": "code",
   "execution_count": 7,
   "metadata": {},
   "outputs": [
    {
     "name": "stdout",
     "output_type": "stream",
     "text": [
      "7,18,20\n"
     ]
    }
   ],
   "source": [
    "#QUESTION 7\n",
    "\n",
    "import math\n",
    "\n",
    "# Fixed values of C and H\n",
    "C = 50\n",
    "H = 30\n",
    "\n",
    "# Input comma-separated sequence of D values\n",
    "input_sequence = input(\"Enter a comma-separated sequence of D values: \")\n",
    "\n",
    "# Split the input sequence into a list of D values\n",
    "D_values = input_sequence.split(',')\n",
    "\n",
    "# Initialize an empty list to store the results\n",
    "results = []\n",
    "\n",
    "# Calculate Q for each value of D\n",
    "for D in D_values:\n",
    "    D = int(D)  # Convert D to an integer\n",
    "    Q = int(math.sqrt((2 * C * D) / H))  # Calculate Q and round to the nearest integer\n",
    "    results.append(Q)\n",
    "\n",
    "# Print the results as a comma-separated string\n",
    "result_str = ','.join(map(str, results))\n",
    "print(result_str)\n"
   ]
  }
 ],
 "metadata": {
  "kernelspec": {
   "display_name": "Python 3",
   "language": "python",
   "name": "python3"
  },
  "language_info": {
   "codemirror_mode": {
    "name": "ipython",
    "version": 3
   },
   "file_extension": ".py",
   "mimetype": "text/x-python",
   "name": "python",
   "nbconvert_exporter": "python",
   "pygments_lexer": "ipython3",
   "version": "3.10.8"
  },
  "orig_nbformat": 4
 },
 "nbformat": 4,
 "nbformat_minor": 2
}
